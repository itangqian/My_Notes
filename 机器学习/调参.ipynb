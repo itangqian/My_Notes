{
 "cells": [
  {
   "cell_type": "markdown",
   "metadata": {},
   "source": [
    "Grid Search：网格搜索，一种调参手段；穷举搜索：在所有候选的参数选择中，通过循环遍历，尝试每一种可能性，表现最好的参数就是最终的结果。其原理就像是在数组里找最大值。"
   ]
  },
  {
   "cell_type": "markdown",
   "metadata": {},
   "source": [
    "# 网格搜索"
   ]
  },
  {
   "cell_type": "markdown",
   "metadata": {},
   "source": [
    "sklearn.model_selection.GridSearchCV(estimator, param_grid, *, scoring=None, n_jobs=None, refit=True, cv=None, verbose=0, pre_dispatch='2*n_jobs', error_score=nan, return_train_score=False)\n",
    "\n",
    "- estimator: 模型\n",
    "- param_grid: 要循环的参数，字典或含字典的列表\n",
    "- scoring: 评估指标\n",
    "- cv: 交叉验证折数\n",
    "\n",
    "属性：\n",
    "\n",
    "- best_estimator: 最优模型\n",
    "- best_score_: 最高分数\n",
    "- best_params_: 最优参数"
   ]
  },
  {
   "cell_type": "markdown",
   "metadata": {},
   "source": [
    "## 未调参"
   ]
  },
  {
   "cell_type": "code",
   "execution_count": 1,
   "metadata": {},
   "outputs": [
    {
     "data": {
      "text/plain": [
       "0.9733333333333334"
      ]
     },
     "execution_count": 1,
     "metadata": {},
     "output_type": "execute_result"
    }
   ],
   "source": [
    "from sklearn.datasets import load_iris\n",
    "from sklearn.svm import SVC\n",
    "\n",
    "iris = load_iris()\n",
    "svc = SVC()\n",
    "svc.fit(iris.data, iris.target)\n",
    "svc.score(iris.data, iris.target)"
   ]
  },
  {
   "cell_type": "markdown",
   "metadata": {},
   "source": [
    "## 调参后"
   ]
  },
  {
   "cell_type": "code",
   "execution_count": 2,
   "metadata": {},
   "outputs": [
    {
     "name": "stdout",
     "output_type": "stream",
     "text": [
      "0.9800000000000001\n",
      "SVC(C=1, gamma=0.1)\n",
      "{'C': 1, 'gamma': 0.1}\n"
     ]
    }
   ],
   "source": [
    "from sklearn.datasets import load_iris\n",
    "from sklearn.model_selection import GridSearchCV\n",
    "from sklearn.svm import SVC\n",
    "\n",
    "iris = load_iris()\n",
    "\n",
    "parameters = {'gamma': [0.001,0.01,0.1,1,10,100],\n",
    "              'C': [0.001,0.01,0.1,1,10,100]}\n",
    "\n",
    "svc = SVC()\n",
    "clf = GridSearchCV(svc, parameters)\n",
    "clf.fit(iris.data, iris.target)\n",
    "\n",
    "# 最高分数\n",
    "print(clf.best_score_)\n",
    "# 最优模型\n",
    "print(clf.best_estimator_)\n",
    "# 最优参数\n",
    "print(clf.best_params_)"
   ]
  },
  {
   "cell_type": "markdown",
   "metadata": {},
   "source": [
    "# 随机搜索\n",
    "\n",
    "[参考](https://www.cnblogs.com/wj-1314/p/10422159.html)\n",
    "\n",
    "我们在搜索超参数的时候，如果超参数个数较少（三四个或者更少），那么我们可以采用网格搜索，一种穷尽式的搜索方法。但是当超参数个数比较多的时候，我们仍然采用网格搜索，那么搜索所需时间将会指数级上升。\n",
    "\n",
    "所以有人就提出了随机搜索的方法，随机在超参数空间中搜索几十几百个点，其中就有可能有比较小的值。这种做法比上面稀疏化网格的做法快，而且实验证明，随机搜索法结果比稀疏网格法稍好。"
   ]
  },
  {
   "cell_type": "markdown",
   "metadata": {},
   "source": [
    "sklearn.model_selection.RandomizedSearchCV(estimator, param_distributions, *, n_iter=10, scoring=None, n_jobs=None, refit=True, cv=None, verbose=0, pre_dispatch='2*n_jobs', random_state=None, error_score=nan, return_train_score=False)\n",
    "\n",
    "- estimator: 模型\n",
    "- param_distributions: 要循环的参数，字典或含字典的列表\n",
    "- n_iter: 迭代次数\n",
    "- scoring: 评估指标\n",
    "- cv: 交叉验证折数\n",
    "- random_state: 随机数\n",
    "\n",
    "属性：\n",
    "\n",
    "- best_estimator: 最优模型\n",
    "- best_score_: 最高分数\n",
    "- best_params_: 最优参数"
   ]
  },
  {
   "cell_type": "code",
   "execution_count": 3,
   "metadata": {},
   "outputs": [
    {
     "name": "stdout",
     "output_type": "stream",
     "text": [
      "0.9666666666666668\n",
      "{'gamma': 4.1000000000000005, 'C': 1}\n"
     ]
    }
   ],
   "source": [
    "from sklearn.datasets import load_iris\n",
    "from sklearn.model_selection import RandomizedSearchCV\n",
    "from sklearn.svm import SVC\n",
    "import numpy as np\n",
    "\n",
    "iris = load_iris()\n",
    "\n",
    "parameters = {'gamma': np.arange(0, 100, 0.1),\n",
    "              'C': [0.001,0.01,0.1,1,10,100]}\n",
    "\n",
    "svc = SVC()\n",
    "\n",
    "clf = RandomizedSearchCV(svc, parameters, n_iter=300)\n",
    "\n",
    "clf.fit(iris.data, iris.target)\n",
    "\n",
    "print(clf.best_score_)\n",
    "print(clf.best_params_)"
   ]
  }
 ],
 "metadata": {
  "kernelspec": {
   "display_name": "Python 3",
   "language": "python",
   "name": "python3"
  },
  "language_info": {
   "codemirror_mode": {
    "name": "ipython",
    "version": 3
   },
   "file_extension": ".py",
   "mimetype": "text/x-python",
   "name": "python",
   "nbconvert_exporter": "python",
   "pygments_lexer": "ipython3",
   "version": "3.8.5"
  }
 },
 "nbformat": 4,
 "nbformat_minor": 4
}
