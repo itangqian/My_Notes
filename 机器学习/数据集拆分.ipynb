{
 "cells": [
  {
   "cell_type": "markdown",
   "metadata": {},
   "source": [
    "# sklearn.model_selection.train_test_split"
   ]
  },
  {
   "cell_type": "markdown",
   "metadata": {},
   "source": [
    "sklearn.model_selection.train_test_split(*arrays, test_size=None, train_size=None, random_state=None, shuffle=True, stratify=None)\n",
    "\n",
    "- *arrays: 允许的输入是列表，numpy数组，稀疏矩阵或padas中的DataFrame。\n",
    "- test_size: 测试集占比\n",
    "    - 若为浮点时，表示测试集占总样本的百分比\n",
    "    - 若为整数时，表示测试样本样本数\n",
    "    - 若为None时，test_size自动设置成0.25\n",
    "- train_size: 训练集占比\n",
    "    - 若为浮点时，表示训练集占总样本的百分比\n",
    "    - 若为整数时，表示训练样本样本数\n",
    "    - 若为None时，train_size自动设置成0.75\n",
    "- random_state: 随机种子\n",
    "    - 若为None时，每次生成的数据都是随机，可能不一样\n",
    "    - 若为整数时，每次生成的数据都相同\n",
    "- shuffle: 洗牌，打乱顺序，在划分数据前是否打乱数据集\n",
    "    - 如果 shuffle=False 那么 stratify 必须为 None\n",
    "- stratify: 可以为类似数组或None\n",
    "    - 若为None时，划分出来的测试集或训练集中，其类标签的比例也是随机的\n",
    "    - 若不为None时，划分出来的测试集或训练集中，其类标签的比例同输入的数组中类标签的比例相同，可以用于处理不均衡的数据集"
   ]
  },
  {
   "cell_type": "markdown",
   "metadata": {},
   "source": [
    "## 随机划分"
   ]
  },
  {
   "cell_type": "code",
   "execution_count": 1,
   "metadata": {},
   "outputs": [],
   "source": [
    "from pydataset import data\n",
    "from sklearn.model_selection import train_test_split\n",
    "\n",
    "titanic = data('titanic')\n",
    "X = titanic.drop('survived', axis=1)\n",
    "y = titanic.survived\n",
    "X_train, X_test, y_train, y_test = train_test_split(X, y, test_size=.2)"
   ]
  },
  {
   "cell_type": "markdown",
   "metadata": {},
   "source": [
    "## 按label比例划分"
   ]
  },
  {
   "cell_type": "code",
   "execution_count": 2,
   "metadata": {},
   "outputs": [],
   "source": [
    "from pydataset import data\n",
    "from sklearn.model_selection import train_test_split\n",
    "\n",
    "titanic = data('titanic')\n",
    "X = titanic.drop('survived', axis=1)\n",
    "y = titanic.survived\n",
    "X_train, X_test, y_train, y_test = train_test_split(X, y, test_size=.2, stratify=y)"
   ]
  }
 ],
 "metadata": {
  "kernelspec": {
   "display_name": "Python 3",
   "language": "python",
   "name": "python3"
  },
  "language_info": {
   "codemirror_mode": {
    "name": "ipython",
    "version": 3
   },
   "file_extension": ".py",
   "mimetype": "text/x-python",
   "name": "python",
   "nbconvert_exporter": "python",
   "pygments_lexer": "ipython3",
   "version": "3.8.5"
  }
 },
 "nbformat": 4,
 "nbformat_minor": 4
}
