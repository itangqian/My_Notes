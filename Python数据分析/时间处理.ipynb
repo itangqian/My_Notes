{
 "cells": [
  {
   "cell_type": "markdown",
   "metadata": {},
   "source": [
    "# pandas.to_datetime"
   ]
  },
  {
   "cell_type": "markdown",
   "metadata": {},
   "source": [
    "参考资料:\n",
    "\n",
    "- [时间序列与日期用法](https://www.pypandas.cn/docs/user_guide/timeseries.html#%E7%BA%B5%E8%A7%88)\n",
    "- [pd.to_datetime()时间处理函数](https://www.cnblogs.com/cgmcoding/p/13522038.html)"
   ]
  },
  {
   "cell_type": "markdown",
   "metadata": {},
   "source": [
    "`pandas.to_datetime(arg, errors='raise', dayfirst=False, yearfirst=False, utc=None, format=None, exact=True, unit=None, infer_datetime_format=False, origin='unix', cache=True)`\n",
    "\n",
    "- arg: int, float, str, datetime, list, tuple, 1-d array, Series, DataFrame/dict-like, 要转换为日期时间的对象\n",
    "- errors='raise': \n",
    "    - 如果为'raise'，则无效的解析将引发异常\n",
    "    - 如果为'coerce'，则将无效解析设置为NaT\n",
    "    - 如果为'ignore'，则无效的解析将返回输入\n",
    "- dayfirst: bool, default False\n",
    "    - 如果arg是str或类似列表，则指定日期解析顺序。\n",
    "    - 如果为True，则首先解析日期，例如10/11/12解析为2012-11-10。\n",
    "    - 警告：dayfirst = True并不严格，但更喜欢使用day first进行解析（这是一个已知的错误，基于dateutil的行为）\n",
    "- yearfirst: bool, default False\n",
    "    - 如果arg是str或类似列表，则指定日期解析顺序。\n",
    "    - 如果True，解析日期以年份为第一，则将10/11/12解析为2010-11-12。\n",
    "    - 如果dayfirst和yearfirst均为True，则yearfirst在前（与dateutil相同）。\n",
    "    - 警告：yearfirst = True并不严格，但更喜欢使用year first进行解析（这是一个已知的错误，基于dateutil的行为）。\n",
    "- utc: bool, default None\n",
    "    - 如果为True，则返回UTC DatetimeIndex（也转换任何支持tz的datetime.datetime对象）,UTC世界协调时间\n",
    "- format: str, default None\n",
    "    - 解析时间的strftime，例如“％d/％m/％Y”，请注意，“％f”将一直解析直至纳秒。\n",
    "- exact: bool, True by default, 精度\n",
    "    - 如果为True，则需要精确的格式匹配。\n",
    "    - 如果为False，则允许格式匹配目标字符串中的任何位置。\n",
    "- unit: str, default 'ns', 单位\n",
    "    - D,s,ms,us,ns\n",
    "    - 例如，在unit ='ms'和origin ='unix'（默认值）的情况下，这将计算到unix纪元开始的毫秒数\n",
    "- origins: calar, default 'unix',  定义参考日期。自该参考日期以来，数值将被解析为单位数（由unit定义）。\n",
    "    - 如果是“ unix”（或POSIX）时间；原点设置为1970-01-01。\n",
    "    - 如果为'julian'，则单位必须为'D'，并且原点设置为Julian Calendar的开头。朱利安天数0被指定为从4713年1月1日中午开始的那一天。\n",
    "    - 如果时间戳可转换，则将原点设置为由原点标识的时间戳。"
   ]
  },
  {
   "cell_type": "markdown",
   "metadata": {},
   "source": [
    "## dayfirst/yearfirst"
   ]
  },
  {
   "cell_type": "code",
   "execution_count": 1,
   "metadata": {},
   "outputs": [
    {
     "name": "stdout",
     "output_type": "stream",
     "text": [
      "2012-11-10 00:00:00\n",
      "2010-11-12 00:00:00\n",
      "2010-12-11 00:00:00\n",
      "2012-10-11 00:00:00\n",
      "DatetimeIndex(['2012-01-14', '2012-01-14'], dtype='datetime64[ns]', freq=None)\n"
     ]
    }
   ],
   "source": [
    "import pandas as pd\n",
    "\n",
    "print(pd.to_datetime('10/11/12', dayfirst=True)) # 日月年\n",
    "print(pd.to_datetime('10/11/12', yearfirst=True))  # 年月日\n",
    "print(pd.to_datetime('10/11/12', dayfirst=True, yearfirst=True)) # 年日月\n",
    "print(pd.to_datetime('10/11/12')) # 默认月日年\n",
    "\n",
    "# 可以看出，dayfirst 并没有那么严苛，如果不能把第一个数解析为日，就会以 dayfirst 为 False 进行解析。 \n",
    "print(pd.to_datetime(['14-01-2012', '01-14-2012'], dayfirst=True))"
   ]
  },
  {
   "cell_type": "markdown",
   "metadata": {},
   "source": [
    "## errors"
   ]
  },
  {
   "cell_type": "code",
   "execution_count": 2,
   "metadata": {},
   "outputs": [
    {
     "name": "stdout",
     "output_type": "stream",
     "text": [
      "13000101\n",
      "NaT\n"
     ]
    }
   ],
   "source": [
    "# 如果日期不符合时间戳限制，则传递errors='ignore'将返回原始输入，而不引发任何异常。\n",
    "print(pd.to_datetime('13000101', errors='ignore'))\n",
    "# 如果日期不符合时间戳限制，则传递errors='ignore'将返回NaT, not a time\n",
    "# Pandas 用 NaT 表示日期时间、时间差及时间段的空值，代表了缺失日期或空日期的值，类似于浮点数的 np.nan。\n",
    "print(pd.to_datetime('13000101', errors='coerce'))"
   ]
  },
  {
   "cell_type": "markdown",
   "metadata": {},
   "source": [
    "## format\n",
    "\n",
    "要实现精准转换，除了传递 datetime 字符串，还要指定 format 参数，指定此参数还可以加速转换速度。"
   ]
  },
  {
   "cell_type": "code",
   "execution_count": 3,
   "metadata": {},
   "outputs": [
    {
     "name": "stdout",
     "output_type": "stream",
     "text": [
      "2010-01-12 00:00:00\n",
      "2010-01-12 00:00:00\n",
      "2010-01-12 05:00:00\n"
     ]
    }
   ],
   "source": [
    "print(pd.to_datetime('2010-01-12', format='%Y-%m-%d'))\n",
    "print(pd.to_datetime('2010/01/12', format='%Y/%m/%d'))\n",
    "print(pd.to_datetime('2010-01-12 05:00', format='%Y-%m-%d %H:%M'))"
   ]
  },
  {
   "cell_type": "markdown",
   "metadata": {},
   "source": [
    "## origin"
   ]
  },
  {
   "cell_type": "markdown",
   "metadata": {},
   "source": [
    "origin 参数可以指定 DatetimeIndex 的备选开始时点。例如，把1960-01-01 作为开始日期："
   ]
  },
  {
   "cell_type": "code",
   "execution_count": 4,
   "metadata": {},
   "outputs": [
    {
     "data": {
      "text/plain": [
       "DatetimeIndex(['1960-01-02', '1960-01-03', '1960-01-04'], dtype='datetime64[ns]', freq=None)"
      ]
     },
     "execution_count": 4,
     "metadata": {},
     "output_type": "execute_result"
    }
   ],
   "source": [
    "pd.to_datetime([1, 2, 3], unit='D', origin=pd.Timestamp('1960-01-01'))"
   ]
  },
  {
   "cell_type": "markdown",
   "metadata": {},
   "source": [
    "## unit"
   ]
  },
  {
   "cell_type": "markdown",
   "metadata": {},
   "source": [
    "### 使用Unix纪元时间"
   ]
  },
  {
   "cell_type": "code",
   "execution_count": 5,
   "metadata": {},
   "outputs": [
    {
     "data": {
      "text/plain": [
       "Timestamp('2017-03-22 15:16:45')"
      ]
     },
     "execution_count": 5,
     "metadata": {},
     "output_type": "execute_result"
    }
   ],
   "source": [
    "pd.to_datetime(1490195805, unit='s')"
   ]
  },
  {
   "cell_type": "markdown",
   "metadata": {},
   "source": [
    "### 使用非Unix纪元时间"
   ]
  },
  {
   "cell_type": "code",
   "execution_count": 6,
   "metadata": {},
   "outputs": [
    {
     "data": {
      "text/plain": [
       "DatetimeIndex(['1960-01-02', '1960-01-03', '1960-01-04'], dtype='datetime64[ns]', freq=None)"
      ]
     },
     "execution_count": 6,
     "metadata": {},
     "output_type": "execute_result"
    }
   ],
   "source": [
    "pd.to_datetime([1, 2, 3], unit='D', origin=pd.Timestamp('1960-01-01'))"
   ]
  },
  {
   "cell_type": "markdown",
   "metadata": {},
   "source": [
    "## 将年月日合并"
   ]
  },
  {
   "cell_type": "code",
   "execution_count": 7,
   "metadata": {},
   "outputs": [
    {
     "name": "stdout",
     "output_type": "stream",
     "text": [
      "0   2015-02-04\n",
      "1   2016-03-05\n",
      "dtype: datetime64[ns]\n",
      "0   2015-02-04\n",
      "1   2016-03-05\n",
      "dtype: datetime64[ns]\n"
     ]
    }
   ],
   "source": [
    "import pandas as pd\n",
    "\n",
    "df = pd.DataFrame({'year': [2015, 2016],\n",
    "                   'month': [2, 3],\n",
    "                   'day': [4, 5]})\n",
    "print(pd.to_datetime(df))\n",
    "\n",
    "# 只传递组合所需的列也可以\n",
    "print(pd.to_datetime(df[['year', 'month', 'day']]))"
   ]
  },
  {
   "cell_type": "markdown",
   "metadata": {},
   "source": [
    "# pandas.Series.dt"
   ]
  },
  {
   "cell_type": "markdown",
   "metadata": {},
   "source": [
    "当我们只需要时间数据里面的某些数据时，比如只要年份，可以选择此方法。\n",
    "\n",
    "- date: 日期\n",
    "- year: 年\n",
    "- month: 月\n",
    "- day: 日\n",
    "- quarter: 季度\n",
    "- hour: 小时\n",
    "- minute: 分钟\n",
    "- second: 秒"
   ]
  },
  {
   "cell_type": "code",
   "execution_count": 8,
   "metadata": {},
   "outputs": [
    {
     "name": "stdout",
     "output_type": "stream",
     "text": [
      "0   2000-01-01 00:00:00\n",
      "1   2000-01-01 00:00:01\n",
      "2   2000-01-01 00:00:02\n",
      "dtype: datetime64[ns]\n",
      "0    2000-01-01\n",
      "1    2000-01-01\n",
      "2    2000-01-01\n",
      "dtype: object\n"
     ]
    }
   ],
   "source": [
    "data = pd.Series(pd.date_range(\"2000-01-01\", periods=3, freq=\"s\"))\n",
    "print(data)\n",
    "print(data.dt.date)"
   ]
  },
  {
   "cell_type": "code",
   "execution_count": 9,
   "metadata": {},
   "outputs": [
    {
     "name": "stdout",
     "output_type": "stream",
     "text": [
      "0   2000-03-31\n",
      "1   2000-06-30\n",
      "2   2000-09-30\n",
      "dtype: datetime64[ns]\n",
      "0    2000-03-31\n",
      "1    2000-06-30\n",
      "2    2000-09-30\n",
      "dtype: object\n",
      "0    2000\n",
      "1    2000\n",
      "2    2000\n",
      "dtype: int64\n",
      "0    3\n",
      "1    6\n",
      "2    9\n",
      "dtype: int64\n",
      "0    1\n",
      "1    2\n",
      "2    3\n",
      "dtype: int64\n",
      "0    0\n",
      "1    0\n",
      "2    0\n",
      "dtype: int64\n"
     ]
    }
   ],
   "source": [
    "data = pd.Series(pd.date_range(\"2000-01-01\", periods=3, freq=\"q\"))\n",
    "print(data)\n",
    "print(data.dt.date)\n",
    "print(data.dt.year)\n",
    "print(data.dt.month)\n",
    "print(data.dt.quarter)\n",
    "print(data.dt.minute)"
   ]
  },
  {
   "cell_type": "markdown",
   "metadata": {},
   "source": [
    "# datetime.datetime"
   ]
  },
  {
   "cell_type": "markdown",
   "metadata": {},
   "source": [
    "## str转换为datetime"
   ]
  },
  {
   "cell_type": "code",
   "execution_count": 10,
   "metadata": {},
   "outputs": [
    {
     "name": "stdout",
     "output_type": "stream",
     "text": [
      "2015-06-01 18:19:59\n"
     ]
    }
   ],
   "source": [
    "from datetime import datetime\n",
    "\n",
    "a = datetime.strptime('2015-6-1 18:19:59', '%Y-%m-%d %H:%M:%S')\n",
    "print(a)"
   ]
  },
  {
   "cell_type": "markdown",
   "metadata": {},
   "source": [
    "## datetime转换为str"
   ]
  },
  {
   "cell_type": "code",
   "execution_count": 11,
   "metadata": {},
   "outputs": [
    {
     "name": "stdout",
     "output_type": "stream",
     "text": [
      "2015-06\n"
     ]
    }
   ],
   "source": [
    "from datetime import datetime\n",
    "\n",
    "a = datetime.strptime('2015-6-1 18:19:59', '%Y-%m-%d %H:%M:%S')\n",
    "# 只保留年月\n",
    "print(datetime.strftime(a, '%Y-%m'))\n",
    "# 对pandas处理就结合apply\n",
    "# df['关闭月份']= df['关闭时间'].apply(lambda x: datetime.datetime.strftime(x, \"%Y-%m\"))"
   ]
  },
  {
   "cell_type": "code",
   "execution_count": 13,
   "metadata": {},
   "outputs": [
    {
     "data": {
      "text/plain": [
       "6"
      ]
     },
     "execution_count": 13,
     "metadata": {},
     "output_type": "execute_result"
    }
   ],
   "source": [
    "import math\n",
    "math.ceil(5.3)"
   ]
  },
  {
   "cell_type": "code",
   "execution_count": null,
   "metadata": {},
   "outputs": [],
   "source": []
  }
 ],
 "metadata": {
  "kernelspec": {
   "display_name": "Python 3",
   "language": "python",
   "name": "python3"
  },
  "language_info": {
   "codemirror_mode": {
    "name": "ipython",
    "version": 3
   },
   "file_extension": ".py",
   "mimetype": "text/x-python",
   "name": "python",
   "nbconvert_exporter": "python",
   "pygments_lexer": "ipython3",
   "version": "3.8.5"
  }
 },
 "nbformat": 4,
 "nbformat_minor": 4
}
